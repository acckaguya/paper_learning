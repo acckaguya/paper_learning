{
 "cells": [
  {
   "cell_type": "code",
   "execution_count": null,
   "id": "49d00c2c",
   "metadata": {},
   "outputs": [],
   "source": [
    "import torch\n",
    "import torch.nn as nn\n",
    "import torch.nn.modules.batchnorm\n",
    "\n",
    "#创建随机输入\n",
    "def create_inputs():\n",
    "    return torch.randn(8, 3, 20, 20)\n",
    "\n",
    "def simu_bn_forward(x, bn_weight, bn_bias, eps, mean_val=None, var_val=None):\n",
    "    if mean_val is None:\n",
    "        mean_val = x.mean([0, 2, 3])\n",
    "    if var_val is None:\n",
    "        var_val = x.var([0, 2, 3], unbiased=False)\n",
    "\n",
    "    #模拟归一化过程\n",
    "    x = x - mean_val[None, ..., None, None]\n",
    "    x = x / torch.sqrt(var_val[None, ..., None, None] + eps)\n",
    "    x = x * bn_weight[..., None, None] + bn_bias[..., None, None]\n",
    "    return mean_val, var_val, x\n"
   ]
  },
  {
   "cell_type": "code",
   "execution_count": null,
   "id": "575f440f",
   "metadata": {},
   "outputs": [],
   "source": [
    "bn_layer = nn.BatchNorm2d(num_features=3)\n",
    "inputs = create_inputs()\n",
    "\n",
    "bn_outputs = bn_layer(inputs)\n",
    "\n",
    "_, _, expected_outputs = simu_bn_forward(\n",
    "    inputs, bn_layer.weight, bn_layer.bias, bn_layer.eps)\n",
    "assert torch.allclose(expected_outputs, bn_outputs)"
   ]
  }
 ],
 "metadata": {
  "kernelspec": {
   "display_name": "pytorch_2.7.0",
   "language": "python",
   "name": "python3"
  },
  "language_info": {
   "codemirror_mode": {
    "name": "ipython",
    "version": 3
   },
   "file_extension": ".py",
   "mimetype": "text/x-python",
   "name": "python",
   "nbconvert_exporter": "python",
   "pygments_lexer": "ipython3",
   "version": "3.12.9"
  }
 },
 "nbformat": 4,
 "nbformat_minor": 5
}
